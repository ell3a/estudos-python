{
 "metadata": {
  "language_info": {
   "codemirror_mode": {
    "name": "ipython",
    "version": 3
   },
   "file_extension": ".py",
   "mimetype": "text/x-python",
   "name": "python",
   "nbconvert_exporter": "python",
   "pygments_lexer": "ipython3",
   "version": "3.8.5-final"
  },
  "orig_nbformat": 2,
  "kernelspec": {
   "name": "python3",
   "display_name": "Python 3.8.5 64-bit ('base': conda)",
   "metadata": {
    "interpreter": {
     "hash": "cff9d2dd46246ebad9b755e5103afbe146c0c9ff6a61a749f67e85fa816eb766"
    }
   }
  }
 },
 "nbformat": 4,
 "nbformat_minor": 2,
 "cells": [
  {
   "source": [
    "# Pandas\n",
    "\n",
    "---\n",
    "## Series\n",
    "\n",
    "Series é uma estrutura de dados composta por um vetor de dados e um vetor de rótulos (índices).\n",
    "\n",
    "~~~\n",
    "Series = dados + rótulos\n",
    "~~~"
   ],
   "cell_type": "markdown",
   "metadata": {}
  },
  {
   "cell_type": "code",
   "execution_count": 1,
   "metadata": {},
   "outputs": [],
   "source": [
    "# Importando a biblioteca pandas\n",
    "import pandas as pd"
   ]
  },
  {
   "cell_type": "code",
   "execution_count": 2,
   "metadata": {},
   "outputs": [
    {
     "output_type": "execute_result",
     "data": {
      "text/plain": [
       "0    2.2\n",
       "1    3.2\n",
       "2    4.5\n",
       "3    3.6\n",
       "dtype: float64"
      ]
     },
     "metadata": {},
     "execution_count": 2
    }
   ],
   "source": [
    "# Criando uma Series simples\n",
    "x = pd.Series([2.2,3.2,4.5,3.6])\n",
    "x"
   ]
  },
  {
   "cell_type": "code",
   "execution_count": 3,
   "metadata": {},
   "outputs": [
    {
     "output_type": "execute_result",
     "data": {
      "text/plain": [
       "mat    5.5\n",
       "bio    6.7\n",
       "qui    5.9\n",
       "fis    7.2\n",
       "dtype: float64"
      ]
     },
     "metadata": {},
     "execution_count": 3
    }
   ],
   "source": [
    "# Criando uma Series com valores e rótulos a partir de duas listas\n",
    "a = [5.5,6.7,5.9,7.2]\n",
    "b = ['mat','bio','qui','fis']\n",
    "y = pd.Series(a, index=b)\n",
    "y"
   ]
  },
  {
   "cell_type": "code",
   "execution_count": 4,
   "metadata": {},
   "outputs": [
    {
     "output_type": "execute_result",
     "data": {
      "text/plain": [
       "D01    5.2\n",
       "D02    6.3\n",
       "D04    6.5\n",
       "D05    7.2\n",
       "dtype: float64"
      ]
     },
     "metadata": {},
     "execution_count": 4
    }
   ],
   "source": [
    "# Criando uma Series a partir de um dicionário\n",
    "a = {'D01':5.2, 'D02': 6.3, 'D04': 6.5, 'D05': 7.2}\n",
    "z = pd.Series(a)\n",
    "z"
   ]
  },
  {
   "source": [
    "---\n",
    "## Listas e Dicionários Python e Series Pandas\n",
    "\n",
    "Existem duas diferenças entre as estruturas nativas da linguagem Python: listas \n",
    "e dicionários. A primeira diferença consiste no fato de que nas listas, os \n",
    "índices que determinam a posição das elementos são inteiros, que variam de 0 \n",
    "até n-1, onde n é o número de elementos da lista, nos dicionários os índices \n",
    "podem ser outros tipos de dados, como strings. A segunda diferença reside no \n",
    "fato de que em um dicionário não existe o conceito de ordem.\n",
    "\n",
    "Uma Series armazena ordenadamente uma lista de elementos, no entanto, atribui \n",
    "rótulos a cada um deles. Assim o acesso a um elemento de uma Series pode ser \n",
    "tanto por sua posição, tal qual o acesso a um elemento de uma lista Python, \n",
    "quanto por seu rótulo, de maneira semelhante ao acesso por meio de uma chave dos \n",
    "dicionários."
   ],
   "cell_type": "markdown",
   "metadata": {}
  },
  {
   "source": [
    "\n",
    "### Propriedades de uma Series\n",
    "\n",
    "*   `dtype`: mostra o tipo Pandas dos valores da Series. Pode ser `int64`, `float64`, `bool`, `object` para strings e `datetime64`.\n",
    "\n",
    "* `values`: vetor de dados.\n",
    "\n",
    "* `index`: vetor de rótulos.\n",
    "\n",
    "* `name`: nome do vetor de dados.\n",
    "\n",
    "* `size`: tamanho da Series.\n",
    "\n",
    "* `index.name`: nome do vetor de rótulos."
   ],
   "cell_type": "markdown",
   "metadata": {}
  },
  {
   "cell_type": "code",
   "execution_count": 5,
   "metadata": {},
   "outputs": [
    {
     "output_type": "execute_result",
     "data": {
      "text/plain": [
       "('Notas', array([5.2, 6.5, 4.8, 6.9]), dtype('float64'), 4, 'Disciplinas')"
      ]
     },
     "metadata": {},
     "execution_count": 5
    }
   ],
   "source": [
    "# Alterando os atributos de uma Series\n",
    "x = pd.Series([5.2,6.5,4.8,6.9], index=['mat', 'bio', 'qui', 'fis'])\n",
    "x.name = 'Notas'\n",
    "x.index.name = 'Disciplinas'\n",
    "\n",
    "# Mostrando os atributos da Series\n",
    "x.name, x.values, x.dtypes, x.size, x.index.name"
   ]
  },
  {
   "source": [
    "---\n",
    "## Consulta e modificação de dados em uma Series\n",
    "\n",
    "### Por indexação"
   ],
   "cell_type": "markdown",
   "metadata": {}
  },
  {
   "cell_type": "code",
   "execution_count": 6,
   "metadata": {},
   "outputs": [
    {
     "output_type": "execute_result",
     "data": {
      "text/plain": [
       "4.8"
      ]
     },
     "metadata": {},
     "execution_count": 6
    }
   ],
   "source": [
    "# Indexação por posição: 3º elemento\n",
    "# Assim como as listas python, as Series tem a indexação dos elementos iniciada por 0\n",
    "x[2]"
   ]
  },
  {
   "cell_type": "code",
   "execution_count": 7,
   "metadata": {},
   "outputs": [
    {
     "output_type": "execute_result",
     "data": {
      "text/plain": [
       "4.8"
      ]
     },
     "metadata": {},
     "execution_count": 7
    }
   ],
   "source": [
    "# Indexação por rótulos\n",
    "x['qui']"
   ]
  },
  {
   "source": [
    "### Por fatiamento\n",
    "\n",
    "Usada quando se quer pegar mais de um elemento de uma Series, sua forma tradicional é \n",
    "~~~\n",
    "Series[i:j]\n",
    "~~~\n",
    "Que pega os elemento da Series da posição `i` até a a posição `j-1`."
   ],
   "cell_type": "markdown",
   "metadata": {}
  },
  {
   "cell_type": "code",
   "execution_count": 8,
   "metadata": {},
   "outputs": [
    {
     "output_type": "execute_result",
     "data": {
      "text/plain": [
       "Disciplinas\n",
       "mat    5.2\n",
       "bio    6.5\n",
       "qui    4.8\n",
       "fis    6.9\n",
       "Name: Notas, dtype: float64"
      ]
     },
     "metadata": {},
     "execution_count": 8
    }
   ],
   "source": [
    "x"
   ]
  },
  {
   "cell_type": "code",
   "execution_count": 9,
   "metadata": {},
   "outputs": [
    {
     "output_type": "execute_result",
     "data": {
      "text/plain": [
       "Disciplinas\n",
       "bio    6.5\n",
       "qui    4.8\n",
       "Name: Notas, dtype: float64"
      ]
     },
     "metadata": {},
     "execution_count": 9
    }
   ],
   "source": [
    "# Pegando o segundo e o terceiro elemento da Series\n",
    "x[1:3]"
   ]
  },
  {
   "cell_type": "code",
   "execution_count": 10,
   "metadata": {},
   "outputs": [
    {
     "output_type": "execute_result",
     "data": {
      "text/plain": [
       "Disciplinas\n",
       "qui    4.8\n",
       "fis    6.9\n",
       "Name: Notas, dtype: float64"
      ]
     },
     "metadata": {},
     "execution_count": 10
    }
   ],
   "source": [
    "# Series[i:] do elemento na posição i até o último\n",
    "x[2:]"
   ]
  },
  {
   "cell_type": "code",
   "execution_count": 11,
   "metadata": {},
   "outputs": [
    {
     "output_type": "execute_result",
     "data": {
      "text/plain": [
       "Disciplinas\n",
       "mat    5.2\n",
       "bio    6.5\n",
       "Name: Notas, dtype: float64"
      ]
     },
     "metadata": {},
     "execution_count": 11
    }
   ],
   "source": [
    "# Series[:j] do primeiro elemento até o elemento j-1\n",
    "x[:2]"
   ]
  },
  {
   "source": [
    "Além das formas citadas de fatiamento existem mais duas muito importantes:\n",
    "\n",
    "* `Series[i,j,k]`: do elemento `i` até o `j-1` usando o passo `k`.\n",
    "* `Series[[lista]]`: pega os elementos cuja posição esteja especificado na lista: podendo ser índices ou rótulos.\n",
    "\n",
    "A diferença fundamental entre a indexação e o fatiamento em uma Series reside no tipo de retorno de cada um. A indexação retorna um único valor, cujo `dtype` é o mesmo do vetor de valores da Series. O fatiamento retorna uma Series, cujo elementos são também elementos da Series original."
   ],
   "cell_type": "markdown",
   "metadata": {}
  },
  {
   "source": [
    "### Por indexação booleana\n",
    "\n",
    "Nesse tipo de indexação, os dados são selecionados com base em seus valores, e não em seus rótulos."
   ],
   "cell_type": "markdown",
   "metadata": {}
  },
  {
   "cell_type": "code",
   "execution_count": 12,
   "metadata": {},
   "outputs": [
    {
     "output_type": "execute_result",
     "data": {
      "text/plain": [
       "Disciplinas\n",
       "mat    5.2\n",
       "bio    6.5\n",
       "qui    4.8\n",
       "fis    6.9\n",
       "Name: Notas, dtype: float64"
      ]
     },
     "metadata": {},
     "execution_count": 12
    }
   ],
   "source": [
    "x"
   ]
  },
  {
   "cell_type": "code",
   "execution_count": 13,
   "metadata": {},
   "outputs": [
    {
     "output_type": "execute_result",
     "data": {
      "text/plain": [
       "Disciplinas\n",
       "bio    6.5\n",
       "fis    6.9\n",
       "Name: Notas, dtype: float64"
      ]
     },
     "metadata": {},
     "execution_count": 13
    }
   ],
   "source": [
    "# Parte da Series cujo valores das são maiores ou iguais a 6\n",
    "x[x>=6]"
   ]
  },
  {
   "cell_type": "code",
   "execution_count": 14,
   "metadata": {},
   "outputs": [
    {
     "output_type": "execute_result",
     "data": {
      "text/plain": [
       "array([6.5, 6.9])"
      ]
     },
     "metadata": {},
     "execution_count": 14
    }
   ],
   "source": [
    "# Notas maiores ou iguais a 6\n",
    "x[x>=6].values"
   ]
  },
  {
   "cell_type": "code",
   "execution_count": 15,
   "metadata": {},
   "outputs": [
    {
     "output_type": "execute_result",
     "data": {
      "text/plain": [
       "Index(['bio', 'fis'], dtype='object', name='Disciplinas')"
      ]
     },
     "metadata": {},
     "execution_count": 15
    }
   ],
   "source": [
    "# Disciplinas com notas maiores ou iguais a 6\n",
    "x[x>=6].index "
   ]
  },
  {
   "source": [
    "---\n",
    "\n",
    "## Busca\n",
    "\n",
    "### `in`\n",
    "\n",
    "Para sabermos se um um rótulo específico faz parte da do vetor de rótulos de uma serie usamos o operador `in`, nativo de python."
   ],
   "cell_type": "markdown",
   "metadata": {}
  },
  {
   "cell_type": "code",
   "execution_count": 16,
   "metadata": {},
   "outputs": [
    {
     "output_type": "execute_result",
     "data": {
      "text/plain": [
       "Disciplinas\n",
       "mat    5.2\n",
       "bio    6.5\n",
       "qui    4.8\n",
       "fis    6.9\n",
       "Name: Notas, dtype: float64"
      ]
     },
     "metadata": {},
     "execution_count": 16
    }
   ],
   "source": [
    "x"
   ]
  },
  {
   "cell_type": "code",
   "execution_count": 17,
   "metadata": {},
   "outputs": [
    {
     "output_type": "execute_result",
     "data": {
      "text/plain": [
       "(True, False)"
      ]
     },
     "metadata": {},
     "execution_count": 17
    }
   ],
   "source": [
    "'qui' in x, 'geo' in x"
   ]
  },
  {
   "source": [
    "### `isin()`\n",
    "\n",
    "Para sabermos se algum dos elementos de uma lista de rótulos faz parte do vetor de rótulos de uma séries usamos o método `isin()` de pandas: "
   ],
   "cell_type": "markdown",
   "metadata": {}
  },
  {
   "cell_type": "code",
   "execution_count": 18,
   "metadata": {},
   "outputs": [
    {
     "output_type": "execute_result",
     "data": {
      "text/plain": [
       "Disciplinas\n",
       "mat    5.2\n",
       "bio    6.5\n",
       "qui    4.8\n",
       "fis    6.9\n",
       "Name: Notas, dtype: float64"
      ]
     },
     "metadata": {},
     "execution_count": 18
    }
   ],
   "source": [
    "x"
   ]
  },
  {
   "cell_type": "code",
   "execution_count": 19,
   "metadata": {},
   "outputs": [
    {
     "output_type": "execute_result",
     "data": {
      "text/plain": [
       "0     True\n",
       "1    False\n",
       "2    False\n",
       "3     True\n",
       "dtype: bool"
      ]
     },
     "metadata": {},
     "execution_count": 19
    }
   ],
   "source": [
    "y = pd.Series(['mat', 'port', 'lit', 'bio'])\n",
    "\n",
    "y.isin(x.index)"
   ]
  }
 ]
}