{
 "metadata": {
  "language_info": {
   "codemirror_mode": {
    "name": "ipython",
    "version": 3
   },
   "file_extension": ".py",
   "mimetype": "text/x-python",
   "name": "python",
   "nbconvert_exporter": "python",
   "pygments_lexer": "ipython3",
   "version": "3.8.5-final"
  },
  "orig_nbformat": 2,
  "kernelspec": {
   "name": "python3",
   "display_name": "Python 3.8.5 64-bit ('base': conda)",
   "metadata": {
    "interpreter": {
     "hash": "cff9d2dd46246ebad9b755e5103afbe146c0c9ff6a61a749f67e85fa816eb766"
    }
   }
  }
 },
 "nbformat": 4,
 "nbformat_minor": 2,
 "cells": [
  {
   "source": [
    "# Aplicações Numpy"
   ],
   "cell_type": "markdown",
   "metadata": {}
  },
  {
   "source": [
    "---\n",
    "\n",
    "## Perceptron de Uma Camada - Modelo Simples\n",
    "\n",
    "Perceptron é uma estrutura de dado utilizada em machine learning. O perceptron é usado na abstração de uma rede neural biológica para rede neural artificial."
   ],
   "cell_type": "markdown",
   "metadata": {}
  },
  {
   "cell_type": "code",
   "execution_count": 6,
   "metadata": {},
   "outputs": [
    {
     "output_type": "execute_result",
     "data": {
      "text/plain": [
       "1"
      ]
     },
     "metadata": {},
     "execution_count": 6
    }
   ],
   "source": [
    "# Perceptron de uma camada usando a biblioteca padrão python\n",
    "\n",
    "entradas = [1,9,5]\n",
    "pesos = [0.8,0.1,0]\n",
    "\n",
    "def soma(entradas,pesos):\n",
    "\ts = 0\n",
    "\tfor i in range(len(entradas)):\n",
    "\t\ts += entrada[i] * pesos[i]\n",
    "\t\n",
    "\treturn s\n",
    "\n",
    "def stepFunctions(s):\n",
    "\tif (s >= 1):\n",
    "\t\treturn 1\n",
    "\treturn 0\n",
    "\n",
    "stepFunctions(soma(entradas,pesos))"
   ]
  },
  {
   "cell_type": "code",
   "execution_count": 9,
   "metadata": {},
   "outputs": [
    {
     "output_type": "execute_result",
     "data": {
      "text/plain": [
       "1.7000000000000002"
      ]
     },
     "metadata": {},
     "execution_count": 9
    }
   ],
   "source": [
    "entradas = np.array([1,9,5])\n",
    "pesos = np.array([0.8,0.1,0])\n",
    "\n",
    "entradas.dot(pesos)"
   ]
  },
  {
   "cell_type": "code",
   "execution_count": 12,
   "metadata": {},
   "outputs": [
    {
     "output_type": "execute_result",
     "data": {
      "text/plain": [
       "1"
      ]
     },
     "metadata": {},
     "execution_count": 12
    }
   ],
   "source": [
    "# Perceptron de uma camada usando a biblioteca numpy\n",
    "\n",
    "import numpy as np\n",
    "\n",
    "entradas = np.array([1,9,5])\n",
    "pesos = np.array([0.8,0.1,0])\n",
    "\n",
    "def soma(entradas,pesos):\n",
    "\treturn entradas.dot(pesos)\n",
    "\n",
    "def stepFunctions(s):\n",
    "\tif (s >= 1):\n",
    "\t\treturn 1\n",
    "\treturn 0\n",
    "\n",
    "stepFunctions(soma(entradas,pesos))"
   ]
  },
  {
   "cell_type": "code",
   "execution_count": null,
   "metadata": {},
   "outputs": [],
   "source": []
  }
 ]
}