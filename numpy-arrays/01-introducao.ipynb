{
 "metadata": {
  "language_info": {
   "codemirror_mode": {
    "name": "ipython",
    "version": 3
   },
   "file_extension": ".py",
   "mimetype": "text/x-python",
   "name": "python",
   "nbconvert_exporter": "python",
   "pygments_lexer": "ipython3",
   "version": "3.8.5-final"
  },
  "orig_nbformat": 2,
  "kernelspec": {
   "name": "python3",
   "display_name": "Python 3.8.5 64-bit ('base': conda)",
   "metadata": {
    "interpreter": {
     "hash": "cff9d2dd46246ebad9b755e5103afbe146c0c9ff6a61a749f67e85fa816eb766"
    }
   }
  }
 },
 "nbformat": 4,
 "nbformat_minor": 2,
 "cells": [
  {
   "source": [
    "# Introdução ao uso do módulo Numpy\n",
    "---"
   ],
   "cell_type": "markdown",
   "metadata": {}
  },
  {
   "cell_type": "code",
   "execution_count": 1,
   "metadata": {},
   "outputs": [],
   "source": [
    "# Por convenção a biblioteca numpy é exportada como se segue\n",
    "import numpy as np"
   ]
  },
  {
   "source": [
    "Numpy apresenta um tipo próprio de dado: `array numpy`. O array de python entendido com um vetor de objetos, tem sua funcionalidade ampliada dentro do Numpy."
   ],
   "cell_type": "markdown",
   "metadata": {}
  },
  {
   "cell_type": "code",
   "execution_count": 2,
   "metadata": {},
   "outputs": [
    {
     "output_type": "execute_result",
     "data": {
      "text/plain": [
       "(numpy.ndarray, numpy.ndarray)"
      ]
     },
     "metadata": {},
     "execution_count": 2
    }
   ],
   "source": [
    "dado = np.array([1,2,3,4])\n",
    "matriz = np.array([[1,2,3,4],[5,6,7,8]])\n",
    "\n",
    "type(dado), type(matriz)"
   ]
  },
  {
   "cell_type": "code",
   "execution_count": 3,
   "metadata": {},
   "outputs": [
    {
     "output_type": "execute_result",
     "data": {
      "text/plain": [
       "((4,), (2, 4))"
      ]
     },
     "metadata": {},
     "execution_count": 3
    }
   ],
   "source": [
    "# Imprime as dimenções do array\n",
    "dado.shape, matriz.shape"
   ]
  },
  {
   "cell_type": "code",
   "execution_count": 4,
   "metadata": {},
   "outputs": [
    {
     "output_type": "execute_result",
     "data": {
      "text/plain": [
       "array([0, 1, 2, 3, 4, 5, 6, 7, 8, 9])"
      ]
     },
     "metadata": {},
     "execution_count": 4
    }
   ],
   "source": [
    "# Criancão de um array com n números ordenados np.arange(n)\n",
    "\n",
    "x = np.arange(10)\n",
    "x "
   ]
  },
  {
   "source": [
    "---\n",
    "## Números Randômicos\n",
    "\n",
    "Exemplos de funções para geração de arrays Numpy com números randômicos.\n",
    "\n",
    "* `np.random.rand(n)`: gera um array com $n$ números aletórios entre 0 e 1;\n",
    "\n",
    "* `np.random.randint(n,size=p)`: gera um array de tamanho $p$ com inteiros de $0$ até $n$;\n",
    "\n",
    "* `np.random.rand(n,p)`: gera uma array de dimensões $n$ e $p$ com números aletórios."
   ],
   "cell_type": "markdown",
   "metadata": {}
  },
  {
   "cell_type": "code",
   "execution_count": 5,
   "metadata": {},
   "outputs": [
    {
     "output_type": "execute_result",
     "data": {
      "text/plain": [
       "(array([0.49379122, 0.83301222, 0.42471295]),\n",
       " array([6, 6, 7, 9, 0]),\n",
       " array([[0.29372808, 0.70568802, 0.38414232],\n",
       "        [0.71160454, 0.59066898, 0.46655681]]))"
      ]
     },
     "metadata": {},
     "execution_count": 5
    }
   ],
   "source": [
    "x = np.random.rand(3)\n",
    "y = np.random.randint(10,size=5)\n",
    "z = np.random.rand(2,3)\n",
    "\n",
    "x, y, z"
   ]
  },
  {
   "cell_type": "code",
   "execution_count": 6,
   "metadata": {},
   "outputs": [
    {
     "output_type": "execute_result",
     "data": {
      "text/plain": [
       "array([[0., 0.],\n",
       "       [0., 0.],\n",
       "       [0., 0.]])"
      ]
     },
     "metadata": {},
     "execution_count": 6
    }
   ],
   "source": [
    "x = np.zeros((3,2))\n",
    "x"
   ]
  },
  {
   "source": [
    "---\n",
    "\n",
    "## Arrays especiais\n",
    "\n",
    "Exemplos de método para geração de arrays especiais\n",
    "\n",
    "* `np.zeros((n,p))`: gera uma array de dimenções $n$ e $p$ com 0 (zeros), matriz composta de 0;\n",
    "\n",
    "* `np.ones((n,p))`: gera uma array de dimenções $n$ e $p$ com 1;\n",
    "\n",
    "* `np.empty((n,p))`: gera uma array de dimenções $n$ e $p$ com espaços vazios."
   ],
   "cell_type": "markdown",
   "metadata": {}
  },
  {
   "cell_type": "code",
   "execution_count": 7,
   "metadata": {},
   "outputs": [
    {
     "output_type": "execute_result",
     "data": {
      "text/plain": [
       "(array([[0., 0., 0., 0., 0.],\n",
       "        [0., 0., 0., 0., 0.],\n",
       "        [0., 0., 0., 0., 0.],\n",
       "        [0., 0., 0., 0., 0.],\n",
       "        [0., 0., 0., 0., 0.]]),\n",
       " array([[1., 1., 1.],\n",
       "        [1., 1., 1.],\n",
       "        [1., 1., 1.],\n",
       "        [1., 1., 1.]]),\n",
       " array([[4.67733425e-310, 0.00000000e+000],\n",
       "        [3.16202013e-322, 0.00000000e+000]]))"
      ]
     },
     "metadata": {},
     "execution_count": 7
    }
   ],
   "source": [
    "x = np.zeros((5,5))\n",
    "y = np.ones((4,3))\n",
    "z = np.empty((2,2))\n",
    "\n",
    "x, y, z"
   ]
  }
 ]
}