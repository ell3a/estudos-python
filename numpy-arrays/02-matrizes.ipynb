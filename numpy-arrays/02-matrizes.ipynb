{
 "metadata": {
  "language_info": {
   "codemirror_mode": {
    "name": "ipython",
    "version": 3
   },
   "file_extension": ".py",
   "mimetype": "text/x-python",
   "name": "python",
   "nbconvert_exporter": "python",
   "pygments_lexer": "ipython3",
   "version": "3.8.5-final"
  },
  "orig_nbformat": 2,
  "kernelspec": {
   "name": "python3",
   "display_name": "Python 3.8.5 64-bit ('base': conda)",
   "metadata": {
    "interpreter": {
     "hash": "cff9d2dd46246ebad9b755e5103afbe146c0c9ff6a61a749f67e85fa816eb766"
    }
   }
  }
 },
 "nbformat": 4,
 "nbformat_minor": 2,
 "cells": [
  {
   "source": [
    "# Matrizes em Numpy\n",
    "---"
   ],
   "cell_type": "markdown",
   "metadata": {}
  },
  {
   "cell_type": "code",
   "execution_count": 1,
   "metadata": {},
   "outputs": [],
   "source": [
    "import numpy as np"
   ]
  },
  {
   "source": [
    "---\n",
    "\n",
    "## Matriz diagonal\n",
    "\n",
    "Uma matriz diagonal é uma matriz quadrada onde todos os elementos fora da diagonal principal são iguais a 0:\n",
    "$$\n",
    "D =\\left[ \\begin{matrix} \n",
    "d_{11} & 0 & 0 & \\ldots & 0 \\\\\n",
    "0 & d_{22} & 0 & \\ldots & 0 \\\\\n",
    "\\vdots & \\vdots & \\vdots & \\ddots & \\vdots \\\\\n",
    "0 & 0 & 0 & \\ldots & d_{nn} \\\\\n",
    "\\end{matrix} \\right]\n",
    "$$\n",
    "\n",
    "Com numpy uma matriz diagonal é criada usando o método:\n",
    "\n",
    "* `np.diag((d1, d2, ... dn))`\n",
    "\n",
    "Onde os números `d1, d2, ... dn` são  os `n` elementos da diagonal principal da matriz.\n"
   ],
   "cell_type": "markdown",
   "metadata": {}
  },
  {
   "cell_type": "code",
   "execution_count": 2,
   "metadata": {},
   "outputs": [
    {
     "output_type": "execute_result",
     "data": {
      "text/plain": [
       "array([[ 1,  0,  0,  0],\n",
       "       [ 0, -1,  0,  0],\n",
       "       [ 0,  0,  0,  0],\n",
       "       [ 0,  0,  0,  2]])"
      ]
     },
     "metadata": {},
     "execution_count": 2
    }
   ],
   "source": [
    "x = np.diag((1,-1,0,2))\n",
    "x"
   ]
  },
  {
   "cell_type": "code",
   "execution_count": null,
   "metadata": {},
   "outputs": [],
   "source": []
  }
 ]
}