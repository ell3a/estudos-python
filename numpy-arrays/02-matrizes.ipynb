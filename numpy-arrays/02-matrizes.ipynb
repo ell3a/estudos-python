{
 "metadata": {
  "language_info": {
   "codemirror_mode": {
    "name": "ipython",
    "version": 3
   },
   "file_extension": ".py",
   "mimetype": "text/x-python",
   "name": "python",
   "nbconvert_exporter": "python",
   "pygments_lexer": "ipython3",
   "version": "3.8.5-final"
  },
  "orig_nbformat": 2,
  "kernelspec": {
   "name": "python3",
   "display_name": "Python 3.8.5 64-bit ('base': conda)",
   "metadata": {
    "interpreter": {
     "hash": "cff9d2dd46246ebad9b755e5103afbe146c0c9ff6a61a749f67e85fa816eb766"
    }
   }
  }
 },
 "nbformat": 4,
 "nbformat_minor": 2,
 "cells": [
  {
   "source": [
    "# Matrizes em Numpy\n",
    "---"
   ],
   "cell_type": "markdown",
   "metadata": {}
  },
  {
   "cell_type": "code",
   "execution_count": 1,
   "metadata": {},
   "outputs": [],
   "source": [
    "import numpy as np"
   ]
  },
  {
   "source": [
    "---\n",
    "\n",
    "## Matriz diagonal\n",
    "\n",
    "Uma matriz diagonal é uma matriz quadrada onde todos os elementos fora da diagonal principal são iguais a 0:\n",
    "$$\n",
    "D =\\left[ \\begin{matrix} \n",
    "d_{11} & 0 & 0 & \\ldots & 0 \\\\\n",
    "0 & d_{22} & 0 & \\ldots & 0 \\\\\n",
    "\\vdots & \\vdots & \\vdots & \\ddots & \\vdots \\\\\n",
    "0 & 0 & 0 & \\ldots & d_{nn} \\\\\n",
    "\\end{matrix} \\right]\n",
    "$$\n",
    "\n",
    "Com numpy uma matriz diagonal é criada usando o método:\n",
    "\n",
    "* `np.diag((d1, d2, ... dn))`\n",
    "\n",
    "Onde os números `d1, d2, ... dn` são  os `n` elementos da diagonal principal da matriz.\n"
   ],
   "cell_type": "markdown",
   "metadata": {}
  },
  {
   "cell_type": "code",
   "execution_count": 2,
   "metadata": {},
   "outputs": [
    {
     "output_type": "execute_result",
     "data": {
      "text/plain": [
       "array([[ 1,  0,  0,  0],\n",
       "       [ 0, -1,  0,  0],\n",
       "       [ 0,  0,  0,  0],\n",
       "       [ 0,  0,  0,  2]])"
      ]
     },
     "metadata": {},
     "execution_count": 2
    }
   ],
   "source": [
    "x = np.diag((1,-1,0,2))\n",
    "x"
   ]
  },
  {
   "source": [
    "---\n",
    "\n",
    "## Matriz identidade\n",
    "\n",
    "Matriz indentidade é uma matriz diagonal em que todos os elementos da diagonal principal são iguais a 1:\n",
    "$$\n",
    "I =\\left[ \\begin{matrix} \n",
    "1 & 0 & 0 & \\ldots & 0 \\\\\n",
    "0 & 1 & 0 & \\ldots & 0 \\\\\n",
    "\\vdots & \\vdots & \\vdots  & \\ddots & \\vdots \\\\\n",
    "0 & 0 & 0 & \\ldots & 1 \\\\\n",
    "\\end{matrix} \\right]\n",
    "$$\n",
    "\n",
    "Com numpy uma matriz identidade de ordem $n$ é criada usando o método:\n",
    "\n",
    "* `np.eye(n)`\n",
    "\n",
    "Em matemática usa-se a notação $I_n$ para uma matriz identidade de ordem $n$."
   ],
   "cell_type": "markdown",
   "metadata": {}
  },
  {
   "cell_type": "code",
   "execution_count": 3,
   "metadata": {},
   "outputs": [
    {
     "output_type": "execute_result",
     "data": {
      "text/plain": [
       "array([[1., 0., 0., 0.],\n",
       "       [0., 1., 0., 0.],\n",
       "       [0., 0., 1., 0.],\n",
       "       [0., 0., 0., 1.]])"
      ]
     },
     "metadata": {},
     "execution_count": 3
    }
   ],
   "source": [
    "x = np.eye(4)\n",
    "x"
   ]
  },
  {
   "source": [
    "---\n",
    "\n",
    "## Padrões de Matrizes\n",
    "\n",
    "Usando o método `np.tile` é possível criar uma replicação de um array."
   ],
   "cell_type": "markdown",
   "metadata": {}
  },
  {
   "cell_type": "code",
   "execution_count": 4,
   "metadata": {},
   "outputs": [
    {
     "output_type": "execute_result",
     "data": {
      "text/plain": [
       "(array([1, 2, 1, 2, 1, 2, 1, 2, 1, 2]),\n",
       " array([[0, 2, 0, 2, 0, 2],\n",
       "        [1, 3, 1, 3, 1, 3]]))"
      ]
     },
     "metadata": {},
     "execution_count": 4
    }
   ],
   "source": [
    "x = np.array([1,2])\n",
    "x = np.tile(x,5)\n",
    "\n",
    "y = np.array([[0,2],[1,3]])\n",
    "y = np.tile(y,3)\n",
    "\n",
    "x, y"
   ]
  },
  {
   "source": [
    "No método tile é possível usar também dois parâmetros de replicação."
   ],
   "cell_type": "markdown",
   "metadata": {}
  },
  {
   "cell_type": "code",
   "execution_count": 5,
   "metadata": {},
   "outputs": [
    {
     "output_type": "execute_result",
     "data": {
      "text/plain": [
       "(array([[1, 2, 1, 2, 1, 2],\n",
       "        [1, 2, 1, 2, 1, 2]]),\n",
       " array([[0, 2, 0, 2, 0, 2],\n",
       "        [1, 3, 1, 3, 1, 3],\n",
       "        [0, 2, 0, 2, 0, 2],\n",
       "        [1, 3, 1, 3, 1, 3],\n",
       "        [0, 2, 0, 2, 0, 2],\n",
       "        [1, 3, 1, 3, 1, 3],\n",
       "        [0, 2, 0, 2, 0, 2],\n",
       "        [1, 3, 1, 3, 1, 3]]))"
      ]
     },
     "metadata": {},
     "execution_count": 5
    }
   ],
   "source": [
    "x = np.array([1,2])\n",
    "x = np.tile(x,(2,3))\n",
    "\n",
    "y = np.array([[0,2],[1,3]])\n",
    "y = np.tile(y,(4,3))\n",
    "\n",
    "x, y"
   ]
  },
  {
   "cell_type": "code",
   "execution_count": 6,
   "metadata": {},
   "outputs": [
    {
     "output_type": "execute_result",
     "data": {
      "text/plain": [
       "(array([5, 5, 5]),\n",
       " array([[5, 5, 5, 5, 5],\n",
       "        [5, 5, 5, 5, 5],\n",
       "        [5, 5, 5, 5, 5],\n",
       "        [5, 5, 5, 5, 5]]))"
      ]
     },
     "metadata": {},
     "execution_count": 6
    }
   ],
   "source": [
    "# O método tile pode ser usado para criar vetores ou matrizes com apenas um elemento\n",
    "\n",
    "x = np.tile(np.array([5]),3)\n",
    "y = np.tile(np.array([5]),(4,5))\n",
    "\n",
    "x, y"
   ]
  }
 ]
}