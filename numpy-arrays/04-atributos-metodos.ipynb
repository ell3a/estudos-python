{
 "metadata": {
  "language_info": {
   "codemirror_mode": {
    "name": "ipython",
    "version": 3
   },
   "file_extension": ".py",
   "mimetype": "text/x-python",
   "name": "python",
   "nbconvert_exporter": "python",
   "pygments_lexer": "ipython3",
   "version": "3.8.5-final"
  },
  "orig_nbformat": 2,
  "kernelspec": {
   "name": "python3",
   "display_name": "Python 3.8.5 64-bit ('base': conda)",
   "metadata": {
    "interpreter": {
     "hash": "cff9d2dd46246ebad9b755e5103afbe146c0c9ff6a61a749f67e85fa816eb766"
    }
   }
  }
 },
 "nbformat": 4,
 "nbformat_minor": 2,
 "cells": [
  {
   "source": [
    "# Atributos e Métodos \n",
    "---"
   ],
   "cell_type": "markdown",
   "metadata": {}
  },
  {
   "cell_type": "code",
   "execution_count": 1,
   "metadata": {},
   "outputs": [],
   "source": [
    "import numpy as np"
   ]
  },
  {
   "source": [
    "---\n",
    "\n",
    "## `shape`\n",
    "\n",
    "O atributo `shape` dos objetos do tipo array numpy, mostra a dimensão dos mesmos."
   ],
   "cell_type": "markdown",
   "metadata": {}
  },
  {
   "cell_type": "code",
   "execution_count": 2,
   "metadata": {},
   "outputs": [
    {
     "output_type": "execute_result",
     "data": {
      "text/plain": [
       "(array([[ 1,  2],\n",
       "        [ 2,  3],\n",
       "        [-1,  0]]),\n",
       " (3, 2))"
      ]
     },
     "metadata": {},
     "execution_count": 2
    }
   ],
   "source": [
    "x = np.array([[1,2],[2,3],[-1,0]])\n",
    "x, x.shape"
   ]
  },
  {
   "source": [
    "---\n",
    "\n",
    "## `transpose`\n",
    "\n",
    "O método `np.transpose()` faz a tranposição de um array numpy."
   ],
   "cell_type": "markdown",
   "metadata": {}
  },
  {
   "cell_type": "code",
   "execution_count": 3,
   "metadata": {},
   "outputs": [
    {
     "output_type": "execute_result",
     "data": {
      "text/plain": [
       "(array([[ 1,  2],\n",
       "        [ 2,  3],\n",
       "        [-1,  0]]),\n",
       " array([[ 1,  2, -1],\n",
       "        [ 2,  3,  0]]))"
      ]
     },
     "metadata": {},
     "execution_count": 3
    }
   ],
   "source": [
    "x, np.transpose(x)"
   ]
  },
  {
   "source": [
    "A transposta de uma array numpy também é um atributo do mesmo: `.T` "
   ],
   "cell_type": "markdown",
   "metadata": {}
  },
  {
   "cell_type": "code",
   "execution_count": 4,
   "metadata": {},
   "outputs": [
    {
     "output_type": "execute_result",
     "data": {
      "text/plain": [
       "(array([[ 1,  2],\n",
       "        [ 2,  3],\n",
       "        [-1,  0]]),\n",
       " array([[ 1,  2, -1],\n",
       "        [ 2,  3,  0]]))"
      ]
     },
     "metadata": {},
     "execution_count": 4
    }
   ],
   "source": [
    "x, x.T"
   ]
  },
  {
   "source": [
    "---\n",
    "\n",
    "## `save`/`load`\n",
    "\n",
    "Muitas vezes é necessário salvar um array numpy no disco. Isso é feito usando \n",
    "\n",
    "~~~\n",
    "np.save('arrayx', x)\n",
    "~~~\n",
    "\n",
    "Assim o array numpy armazenado na variável `x`, será salvo na memória com o nome `arrayx.npy`."
   ],
   "cell_type": "markdown",
   "metadata": {}
  },
  {
   "cell_type": "code",
   "execution_count": 5,
   "metadata": {},
   "outputs": [],
   "source": [
    "np.save('matriz',x)"
   ]
  },
  {
   "source": [
    "Quando um array está salvo no disco, a sua leitura e carregamento no código é feita com o método `load`. Fazendo\n",
    "\n",
    "y = np.load('nome.npy')\n",
    "\n",
    "Carregamos o array salvo no arquivo `nome.py` para a variável `y`."
   ],
   "cell_type": "markdown",
   "metadata": {}
  },
  {
   "cell_type": "code",
   "execution_count": 6,
   "metadata": {},
   "outputs": [
    {
     "output_type": "execute_result",
     "data": {
      "text/plain": [
       "array([[ 1,  2],\n",
       "       [ 2,  3],\n",
       "       [-1,  0]])"
      ]
     },
     "metadata": {},
     "execution_count": 6
    }
   ],
   "source": [
    "y = np.load('matriz.npy')\n",
    "y"
   ]
  }
 ]
}