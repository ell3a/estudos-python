{
 "metadata": {
  "language_info": {
   "codemirror_mode": {
    "name": "ipython",
    "version": 3
   },
   "file_extension": ".py",
   "mimetype": "text/x-python",
   "name": "python",
   "nbconvert_exporter": "python",
   "pygments_lexer": "ipython3",
   "version": "3.8.5-final"
  },
  "orig_nbformat": 2,
  "kernelspec": {
   "name": "python3",
   "display_name": "Python 3.8.5 64-bit ('base': conda)",
   "metadata": {
    "interpreter": {
     "hash": "cff9d2dd46246ebad9b755e5103afbe146c0c9ff6a61a749f67e85fa816eb766"
    }
   }
  }
 },
 "nbformat": 4,
 "nbformat_minor": 2,
 "cells": [
  {
   "source": [
    "# Álgebra Linear com Python: Numpy\n",
    "---"
   ],
   "cell_type": "markdown",
   "metadata": {}
  },
  {
   "cell_type": "code",
   "execution_count": 2,
   "metadata": {},
   "outputs": [],
   "source": [
    "# Por convenção a biblioteca numpy é exportada como se segue\n",
    "import numpy as np"
   ]
  },
  {
   "source": [
    "---\n",
    "## Básico da linguagem Python"
   ],
   "cell_type": "markdown",
   "metadata": {}
  },
  {
   "cell_type": "code",
   "execution_count": 3,
   "metadata": {},
   "outputs": [
    {
     "output_type": "stream",
     "name": "stdout",
     "text": [
      "1, 2, 3, 4, 5, 6, 7, 8, 9, 10, "
     ]
    }
   ],
   "source": [
    "# Imprimindo uma lista de números\n",
    "for i in range(1,11):\n",
    "    print(f'{i}, ', end=\"\")"
   ]
  },
  {
   "cell_type": "code",
   "execution_count": 4,
   "metadata": {},
   "outputs": [
    {
     "output_type": "execute_result",
     "data": {
      "text/plain": [
       "(dict_keys(['um', 'dois']), dict_values([1, 2]))"
      ]
     },
     "metadata": {},
     "execution_count": 4
    }
   ],
   "source": [
    "# Criando um dicionário\n",
    "numeros = {}\n",
    "numeros['um'] = 1\n",
    "numeros['dois'] = 2\n",
    "numeros.keys(), numeros.values()"
   ]
  },
  {
   "cell_type": "code",
   "execution_count": 5,
   "metadata": {},
   "outputs": [
    {
     "output_type": "execute_result",
     "data": {
      "text/plain": [
       "{'um': 1, 'dois': 2}"
      ]
     },
     "metadata": {},
     "execution_count": 5
    }
   ],
   "source": [
    "numeros"
   ]
  },
  {
   "cell_type": "code",
   "execution_count": 6,
   "metadata": {},
   "outputs": [],
   "source": [
    "x = ['um', 'dois']\n",
    "y = [1,2]\n",
    "d = {}\n",
    "\n",
    "for i in range(len(x)):\n",
    "    d[x[i]] = y[i]\n"
   ]
  },
  {
   "cell_type": "code",
   "execution_count": 7,
   "metadata": {},
   "outputs": [
    {
     "output_type": "execute_result",
     "data": {
      "text/plain": [
       "{'um': 1, 'dois': 2}"
      ]
     },
     "metadata": {},
     "execution_count": 7
    }
   ],
   "source": [
    "d"
   ]
  },
  {
   "source": [
    "---\n",
    "## Usando a bibliote numpy"
   ],
   "cell_type": "markdown",
   "metadata": {}
  },
  {
   "cell_type": "code",
   "execution_count": 8,
   "metadata": {},
   "outputs": [
    {
     "output_type": "execute_result",
     "data": {
      "text/plain": [
       "(array([1, 2, 3]),\n",
       " array([[1, 2, 3],\n",
       "        [1, 1, 1],\n",
       "        [2, 2, 2]]))"
      ]
     },
     "metadata": {},
     "execution_count": 8
    }
   ],
   "source": [
    "# Ciação de matrizes e vetores com Numpy\n",
    "x = np.array([1,2,3])\n",
    "y = np.array([[1,2,3],[1,1,1],[2,2,2]])\n",
    "\n",
    "x,y\n"
   ]
  },
  {
   "cell_type": "code",
   "execution_count": 9,
   "metadata": {},
   "outputs": [
    {
     "output_type": "execute_result",
     "data": {
      "text/plain": [
       "(array([[1, 0, 0, 0],\n",
       "        [0, 2, 0, 0],\n",
       "        [0, 0, 3, 0],\n",
       "        [0, 0, 0, 4]]),\n",
       " array([0., 0., 0., 0.]),\n",
       " array([[1, 0, 0, 0],\n",
       "        [0, 2, 0, 0],\n",
       "        [0, 0, 3, 0],\n",
       "        [0, 0, 0, 4]]))"
      ]
     },
     "metadata": {},
     "execution_count": 9
    }
   ],
   "source": [
    "# Matriz diagonal\n",
    "x = np.diag([1,2,3,4])\n",
    "\n",
    "# Matriz nula\n",
    "y = np.zeros(4)\n",
    "\n",
    "x, y, np.transpose(x) # transposta de x "
   ]
  },
  {
   "cell_type": "code",
   "execution_count": 10,
   "metadata": {},
   "outputs": [
    {
     "output_type": "execute_result",
     "data": {
      "text/plain": [
       "(array([[1., 0., 0., 0.],\n",
       "        [0., 1., 0., 0.],\n",
       "        [0., 0., 1., 0.],\n",
       "        [0., 0., 0., 1.]]),\n",
       " array([[1., 0., 0., 0.],\n",
       "        [0., 1., 0., 0.],\n",
       "        [0., 0., 1., 0.],\n",
       "        [0., 0., 0., 1.]]))"
      ]
     },
     "metadata": {},
     "execution_count": 10
    }
   ],
   "source": [
    "# Matriz identidade\n",
    "x = np.identity(4)\n",
    "y = np.eye(4)\n",
    "\n",
    "x,y"
   ]
  },
  {
   "source": [
    "---\n",
    "\n",
    "## Propriedades da Transposição de Matrizes\n",
    "\n",
    "Dadas duas Matrizes $A$ e $B$, quadradas e de mesma ordem, temos\n",
    "\n",
    "1. $(A+B)^T = A^T+B^T$;\n",
    "\n",
    "1. $(A^T)^T = A$\n",
    "\n",
    "1. $(\\alpha A)^T = \\alpha A^T$"
   ],
   "cell_type": "markdown",
   "metadata": {}
  },
  {
   "cell_type": "code",
   "execution_count": 11,
   "metadata": {},
   "outputs": [
    {
     "output_type": "execute_result",
     "data": {
      "text/plain": [
       "array([[ True,  True],\n",
       "       [ True,  True]])"
      ]
     },
     "metadata": {},
     "execution_count": 11
    }
   ],
   "source": [
    "# Verificação com Numpy\n",
    "A = np.array([[1,2],[3,4]])\n",
    "B = np.array([[0,0],[3,5]])\n",
    "\n",
    "(A+B).T == A.T + B.T"
   ]
  },
  {
   "source": [
    "---\n",
    "\n",
    "## Propriedades do Traço de uma Matriz Quadrada\n",
    "\n",
    "Dada uma matriz quadrada $A = [a_{ij}]$ de orde $n$, o traço de $A$, é dado por:\n",
    "\n",
    "$$\\mbox{tr}(A) =  a_{11} + a_{22} + \\ldots + a_{nn},$$\n",
    "\n",
    "soma dos elementos da diagonal principal. Dada outra matriz $B$, de ordem $n$ valem as seguintes propriedades:\n",
    "\n",
    "1. $\\mbox{tr}(A+B) = \\mbox{tr}(A) + \\mbox{tr}(B)$\n",
    "\n",
    "2. $\\mbox{tr}(\\alpha A) = \\alpha \\mbox{tr}(A)$\n",
    "\n",
    "3. $\\mbox{tr}(A) = \\mbox{tr}(A^T)$\n",
    "\n",
    "4. $\\mbox{tr}(AB) = \\mbox{tr}(BA)$\n",
    "\n",
    "5. O traço de uma matriz simétrica é a soma de seus auto valores."
   ],
   "cell_type": "markdown",
   "metadata": {}
  },
  {
   "cell_type": "code",
   "execution_count": 12,
   "metadata": {},
   "outputs": [
    {
     "output_type": "execute_result",
     "data": {
      "text/plain": [
       "True"
      ]
     },
     "metadata": {},
     "execution_count": 12
    }
   ],
   "source": [
    "# Testando uma das propriedades\n",
    "\n",
    "np.trace(np.dot(A,B)) == np.trace(np.dot(B,A))"
   ]
  },
  {
   "source": [
    "---\n",
    "\n",
    "## Invertendo Matrizes"
   ],
   "cell_type": "markdown",
   "metadata": {}
  },
  {
   "cell_type": "code",
   "execution_count": 13,
   "metadata": {},
   "outputs": [],
   "source": [
    "# Importando o método inv para inversão de matrizes do módulo linalg\n",
    "# Linalg é o um conjunto de funcões python para algébra linear\n",
    "\n",
    "# det, para calculo de determinantes\n",
    "from numpy.linalg import inv,det"
   ]
  },
  {
   "cell_type": "code",
   "execution_count": 14,
   "metadata": {},
   "outputs": [
    {
     "output_type": "execute_result",
     "data": {
      "text/plain": [
       "(array([[1, 2],\n",
       "        [3, 4]]),\n",
       " array([[-2. ,  1. ],\n",
       "        [ 1.5, -0.5]]),\n",
       " -2.0000000000000004)"
      ]
     },
     "metadata": {},
     "execution_count": 14
    }
   ],
   "source": [
    "A, inv(A), det(A)"
   ]
  },
  {
   "cell_type": "code",
   "execution_count": 15,
   "metadata": {},
   "outputs": [
    {
     "output_type": "execute_result",
     "data": {
      "text/plain": [
       "array([[1.00000000e+00, 1.11022302e-16],\n",
       "       [0.00000000e+00, 1.00000000e+00]])"
      ]
     },
     "metadata": {},
     "execution_count": 15
    }
   ],
   "source": [
    "A.dot(inv(A))"
   ]
  },
  {
   "source": [
    "---\n",
    "\n",
    "## Resolução de Sistemas\n",
    "\n",
    "Vamos resolver o sistema \n",
    "$$\n",
    "\\left\\{\n",
    "\\begin{matrix}\n",
    "2x + 3y & = & 2\\\\\n",
    "4x - 5y & = & -40 \n",
    "\\end{matrix}\n",
    "\\right.\n",
    "$$\n"
   ],
   "cell_type": "markdown",
   "metadata": {}
  },
  {
   "cell_type": "code",
   "execution_count": 16,
   "metadata": {},
   "outputs": [],
   "source": [
    "from numpy.linalg import solve"
   ]
  },
  {
   "cell_type": "code",
   "execution_count": 17,
   "metadata": {},
   "outputs": [
    {
     "output_type": "execute_result",
     "data": {
      "text/plain": [
       "(array([[ 2,  3],\n",
       "        [ 4, -5]]),\n",
       " array([[  2],\n",
       "        [-40]]))"
      ]
     },
     "metadata": {},
     "execution_count": 17
    }
   ],
   "source": [
    "A = np.array([[2,3],[4,-5]])\n",
    "B = np.array([[2],[-40]])\n",
    "\n",
    "A, B"
   ]
  },
  {
   "cell_type": "code",
   "execution_count": 18,
   "metadata": {},
   "outputs": [
    {
     "output_type": "execute_result",
     "data": {
      "text/plain": [
       "array([[-5.],\n",
       "       [ 4.]])"
      ]
     },
     "metadata": {},
     "execution_count": 18
    }
   ],
   "source": [
    "solve(A,B)"
   ]
  },
  {
   "cell_type": "code",
   "execution_count": 19,
   "metadata": {},
   "outputs": [
    {
     "output_type": "execute_result",
     "data": {
      "text/plain": [
       "array([[-5.],\n",
       "       [ 4.]])"
      ]
     },
     "metadata": {},
     "execution_count": 19
    }
   ],
   "source": [
    "np.linalg.solve(A,B)"
   ]
  },
  {
   "cell_type": "code",
   "execution_count": null,
   "metadata": {},
   "outputs": [],
   "source": []
  }
 ]
}