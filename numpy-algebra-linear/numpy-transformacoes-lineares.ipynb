{
 "metadata": {
  "language_info": {
   "codemirror_mode": {
    "name": "ipython",
    "version": 3
   },
   "file_extension": ".py",
   "mimetype": "text/x-python",
   "name": "python",
   "nbconvert_exporter": "python",
   "pygments_lexer": "ipython3",
   "version": "3.8.5"
  },
  "orig_nbformat": 2,
  "kernelspec": {
   "name": "python3",
   "display_name": "Python 3.8.5 64-bit ('base': conda)",
   "metadata": {
    "interpreter": {
     "hash": "cff9d2dd46246ebad9b755e5103afbe146c0c9ff6a61a749f67e85fa816eb766"
    }
   }
  }
 },
 "nbformat": 4,
 "nbformat_minor": 2,
 "cells": [
  {
   "source": [
    "# Autovalores e Autovetores\n",
    "---\n",
    "\n",
    "## Transformações Lineares\n",
    "\n",
    "Dados dois espaços vetoriais $V$ e $W$, uma aplicação $P: V \\rightarrow W$ é uma transformação linear de $V$ em $W$, se dados $u,v \\in V$ e $\\alpha \\in \\mathbb{R}^2$:\n",
    "\n",
    "(i) $T(u+v) = T(u) + T(v)$;\n",
    "\n",
    "(ii) $T(\\alpha u) = \\alpha T(u)$.\n",
    "\n",
    "**Observações:** seja $V$ um espaço vetorial,\n",
    "\n",
    "* uma transformação linear $ T: V \\rightarrow V$ é chamada de operador linear;\n",
    "\n",
    "* as transformações lineares $ T: V \\rightarrow \\mathbb{R}$ são chamadas de funcionais lineares.\n",
    "\n",
    "* dados $v_1, v_2 \\in V$ e $\\alpha_1, \\alpha_2 \\in \\mathbb{R}$, as duas propriedades (i) e (ii) de transformações lineares, podem ser sintetizadas na propriedade a seguir:\n",
    "\n",
    "    (iii*) $T(\\alpha_1 v_1 + \\alpha_2 v_2) = \\alpha_1 T(v_1) + \\alpha_2 T(v_2)$\n",
    "\n",
    "### Funções Lineares\n",
    "\n",
    "Em matemática uma função $T: \\mathbb{R} \\rightarrow \\mathbb{R}$ é chamada de linear se, dados $x,y, \\alpha \\in \\mathbb{R}$:\n",
    "\n",
    "* Aditividade\n",
    "$$f(x+y) = f(x) + f(y)$$\n",
    "\n",
    "* Homogeneidade\n",
    "$$f(\\alpha x) =  \\alpha f(x)$$"
   ],
   "cell_type": "markdown",
   "metadata": {}
  },
  {
   "source": [
    "## Matriz de uma Transformação Linear\n",
    "\n",
    "Dados $V$ e $W$, espaços vetoriais, e seja a Transformação Linear $ T: V \\rightarrow W$, existe uma matriz $A$, tal que, se para $v \\in V$, temos $T(v) = w \\in W$\n",
    "\n",
    "$$\n",
    "T(v) = Av = w \n",
    "$$\n",
    "\n",
    "A matriz $A$ de uma transformação linear $ T: V \\rightarrow W$ é dada por:\n",
    "$$\n",
    "A = \\left[\n",
    "\\begin{matrix}\n",
    "[T(i_1)] & [T(i_2)] & \\ldots & [T(i_n)]\n",
    "\\end{matrix}\n",
    "\\right]\n",
    "$$\n",
    "\n",
    "Onde $i_1, i_2, \\ldots , i_n$ são a base canônica de $V$. Assim cada uma das colunas da matriz da transformação linear é formada pela coordenadas do vetor resultado da transformação aplicada a um dos elementos da base canônica.\n"
   ],
   "cell_type": "markdown",
   "metadata": {}
  },
  {
   "source": [
    "### Exemplos\n",
    "\n",
    "#### Exemplo 1: Calcular a matriz da transformação linear $ T: \\mathbb{R}^2 \\rightarrow \\mathbb{R}^3$ definida por:\n",
    "$$\n",
    "T(x,y) = (2x,3y,x-y)\n",
    "$$\n"
   ],
   "cell_type": "markdown",
   "metadata": {}
  },
  {
   "source": [
    "A base canônicas de $\\mathbb{R}^2$ é composta pelos vetores $[1,0]$ e $[0,1]$, aplicando $T$ a cada um deles, obtemos $[2,0,1]$ e  $[0,3,-1]$, assim a matriz da tranformação linear é:\n",
    "$$\n",
    "A = \\left[\n",
    "\\begin{matrix}\n",
    "2 & 0\\\\\n",
    "0 & 3\\\\\n",
    "1 & -1\n",
    "\\end{matrix}\n",
    "\\right]\n",
    "$$\n"
   ],
   "cell_type": "markdown",
   "metadata": {}
  },
  {
   "cell_type": "code",
   "execution_count": 1,
   "metadata": {},
   "outputs": [],
   "source": [
    "# Vamos usar numpy para calcular T(1,1):\n",
    "import numpy as np"
   ]
  },
  {
   "cell_type": "code",
   "execution_count": 2,
   "metadata": {},
   "outputs": [
    {
     "output_type": "execute_result",
     "data": {
      "text/plain": [
       "array([[ 2,  0],\n",
       "       [ 0,  3],\n",
       "       [ 1, -1]])"
      ]
     },
     "metadata": {},
     "execution_count": 2
    }
   ],
   "source": [
    "A = np.array([[2,0],[0,3],[1,-1]])\n",
    "A"
   ]
  },
  {
   "cell_type": "code",
   "execution_count": 3,
   "metadata": {},
   "outputs": [
    {
     "output_type": "execute_result",
     "data": {
      "text/plain": [
       "array([[1],\n",
       "       [1]])"
      ]
     },
     "metadata": {},
     "execution_count": 3
    }
   ],
   "source": [
    "v = np.array([[1],[1]])\n",
    "v"
   ]
  },
  {
   "cell_type": "code",
   "execution_count": 4,
   "metadata": {},
   "outputs": [
    {
     "output_type": "execute_result",
     "data": {
      "text/plain": [
       "array([[2],\n",
       "       [3],\n",
       "       [0]])"
      ]
     },
     "metadata": {},
     "execution_count": 4
    }
   ],
   "source": [
    "np.dot(A,v)"
   ]
  },
  {
   "source": [
    "Na tranformação $T: \\mathbb{R}^2 \\rightarrow \\mathbb{R}^3$ definida por $ T(x,y) = (2x,3y,x-y)$, obtemos uma matriz $A_{3 \\times 2}$. Observe que o número de linhas da matriz é a dimensão do espaço vetorial $\\mathbb{R}^3$ s o número de colunas é a dimensão do espaço vetorial $\\mathbb{R}^2$.\n",
    "\n",
    "Assim a $T(v) =  Av$, e podemos estudar as transformações lineares a partir de suas matrizes."
   ],
   "cell_type": "markdown",
   "metadata": {}
  },
  {
   "source": [
    "#### Exemplo 2: Calcular a matriz do operador linear $T(x,y) = (x-2y, 5x+6y)$. Use python para Calcular $T(50,-50)$"
   ],
   "cell_type": "markdown",
   "metadata": {}
  },
  {
   "source": [
    "Calculando $T$ para $(1,0)$ e $(0,1)$, obtemos\n",
    "$$\n",
    "A = \\left[\n",
    "\\begin{matrix}\n",
    "1 & -2\\\\\n",
    "5 & 6\n",
    "\\end{matrix}\n",
    "\\right]\n",
    "$$"
   ],
   "cell_type": "markdown",
   "metadata": {}
  },
  {
   "cell_type": "code",
   "execution_count": 5,
   "metadata": {},
   "outputs": [
    {
     "output_type": "execute_result",
     "data": {
      "text/plain": [
       "(array([[ 1, -2],\n",
       "        [ 5,  6]]),\n",
       " array([[ 50],\n",
       "        [-50]]))"
      ]
     },
     "metadata": {},
     "execution_count": 5
    }
   ],
   "source": [
    "# Usando numpy para fazer T(50,-50)\n",
    "A = np.array([[1,-2],[5,6]])\n",
    "v = np.array([[50],[-50]])\n",
    "\n",
    "A, v"
   ]
  },
  {
   "cell_type": "code",
   "execution_count": 6,
   "metadata": {},
   "outputs": [
    {
     "output_type": "execute_result",
     "data": {
      "text/plain": [
       "array([[150],\n",
       "       [-50]])"
      ]
     },
     "metadata": {},
     "execution_count": 6
    }
   ],
   "source": [
    "A.dot(v)"
   ]
  },
  {
   "source": [
    "## Composição de transformações lineares\n",
    "\n",
    "As transformações lineares, assim como funções, podem ser compostas. No exemplo a seguir vamos ilustrar isso:\n",
    "\n",
    "Seja os operadores lineares $T(x,y,z) = (2x - 5y, x + 4y - 2z, -y + 5z)$ e $P(x,y,z) = (2x, 3y, -7z)$, qual o resultado da operação $T(P(120,12,-13))$"
   ],
   "cell_type": "markdown",
   "metadata": {}
  },
  {
   "source": [
    "A composição de duas transformações lineares gera uma segunda transformações linear. A matriz da transformações resultante é o produto das matrizes das transformações da composição. Assim para calcularmos usando python a operação pedida vamos encontrar as matrizes de cada uma das transformações lineares."
   ],
   "cell_type": "markdown",
   "metadata": {}
  },
  {
   "cell_type": "code",
   "execution_count": 7,
   "metadata": {},
   "outputs": [
    {
     "output_type": "execute_result",
     "data": {
      "text/plain": [
       "array([[  4, -15,   0],\n",
       "       [  2,  12,  14],\n",
       "       [  0,  -3, -35]])"
      ]
     },
     "metadata": {},
     "execution_count": 7
    }
   ],
   "source": [
    "At = np.array([[2,-5,0],[1,4,-2],[0,-1,5]]) # matriz da transformação T\n",
    "Ap = np.array([[2,0,0],[0,3,0],[0,0,-7]]) # matrix da transformação P\n",
    "\n",
    "A = np.dot(At, Ap)  # matriz da composição\n",
    "A"
   ]
  },
  {
   "cell_type": "code",
   "execution_count": 8,
   "metadata": {},
   "outputs": [],
   "source": [
    "v = np.array([[120],[12],[-13]])"
   ]
  },
  {
   "cell_type": "code",
   "execution_count": 9,
   "metadata": {},
   "outputs": [
    {
     "output_type": "execute_result",
     "data": {
      "text/plain": [
       "array([[300],\n",
       "       [202],\n",
       "       [419]])"
      ]
     },
     "metadata": {},
     "execution_count": 9
    }
   ],
   "source": [
    "A.dot(v)"
   ]
  },
  {
   "cell_type": "code",
   "execution_count": 10,
   "metadata": {},
   "outputs": [
    {
     "output_type": "execute_result",
     "data": {
      "text/plain": [
       "array([[300],\n",
       "       [202],\n",
       "       [419]])"
      ]
     },
     "metadata": {},
     "execution_count": 10
    }
   ],
   "source": [
    "# Fazendo por partes\n",
    "x = Ap.dot(v)\n",
    "At.dot(x)"
   ]
  },
  {
   "source": [
    "## Inversa de uma transformação linear\n",
    "\n",
    "Seja uma transformação linear $T: V \\rightarrow W$, uma inversa à esquerda de $T$, é uma transformação $T^{-1}$, tal que:\n",
    "\n",
    "$$\n",
    "T^{-1}(T(v)) = v\n",
    "$$\n",
    "\n",
    "No caso dos operadores lineares, a matriz inversa da matriz dada é encontrada calculando a matriz inversa da matriz do operador linear, caso exista.\n",
    "\n",
    "#### Exemplo 1: Calcule a inversa do operador linear $T(x,y) = (2x - 3y, 5x + 2y)$"
   ],
   "cell_type": "markdown",
   "metadata": {}
  },
  {
   "cell_type": "code",
   "execution_count": 11,
   "metadata": {},
   "outputs": [],
   "source": [
    "from numpy.linalg import det, inv"
   ]
  },
  {
   "cell_type": "code",
   "execution_count": 12,
   "metadata": {},
   "outputs": [
    {
     "output_type": "execute_result",
     "data": {
      "text/plain": [
       "(array([[ 2, -3],\n",
       "        [ 5,  2]]),\n",
       " 18.999999999999996)"
      ]
     },
     "metadata": {},
     "execution_count": 12
    }
   ],
   "source": [
    "A = np.array([[2,-3],[5,2]])\n",
    "A, det(A)"
   ]
  },
  {
   "cell_type": "code",
   "execution_count": 13,
   "metadata": {},
   "outputs": [
    {
     "output_type": "execute_result",
     "data": {
      "text/plain": [
       "array([[ 0.10526316,  0.15789474],\n",
       "       [-0.26315789,  0.10526316]])"
      ]
     },
     "metadata": {},
     "execution_count": 13
    }
   ],
   "source": [
    "inv(A)"
   ]
  },
  {
   "source": [
    "---\n",
    "## Autovalores e Autovetores\n",
    "\n",
    "É de interesse especial da álgebra linear os vetores que são levados em múltiplos de si mesmos por meio de um operador linear. \n",
    "\n",
    "Assim, dado um operador linear $T: V \\rightarrow V$, cuja matriz é $A$ queremos encontrar um vetor $v \\neq 0 \\in V$ e um escalar $\\lambda \\in \\mathbb{R}$, tais que: $T(v) = \\lambda v$, ou seja\n",
    "\n",
    "$$\n",
    "Av = \\lambda v\n",
    "$$\n",
    "\n",
    "O vetor $v$ é chamado de autovalor de $T$ ou da matriz $A$ e o escalar $\\lambda$ é chamado de autovalor de $T$ ou da matriz $A$.\n",
    "\n",
    "Os Autovalores de uma matriz $A$ podem ser encontrados como soluções da equação:\n",
    "$$\n",
    "\\det(A-\\lambda I) = 0\n",
    "$$\n",
    "\n",
    "O polinômio em $\\lambda$, $p(\\lambda) = \\det(A-\\lambda I)$ é chamado de polinômio característico da matriz $A$."
   ],
   "cell_type": "markdown",
   "metadata": {}
  },
  {
   "cell_type": "code",
   "execution_count": 14,
   "metadata": {},
   "outputs": [],
   "source": [
    "# Calculando autovalores e autovetores de uma matriz usando python\n",
    "import numpy.linalg as al"
   ]
  },
  {
   "cell_type": "code",
   "execution_count": 15,
   "metadata": {},
   "outputs": [
    {
     "output_type": "execute_result",
     "data": {
      "text/plain": [
       "(array([2., 2., 3.]),\n",
       " array([[ 0.00000000e+00,  4.44089210e-16, -8.16496581e-01],\n",
       "        [ 0.00000000e+00, -4.44089210e-16,  4.08248290e-01],\n",
       "        [ 1.00000000e+00,  1.00000000e+00,  4.08248290e-01]]))"
      ]
     },
     "metadata": {},
     "execution_count": 15
    }
   ],
   "source": [
    "A = np.array([[4,2,0],[-1,1,0],[0,1,2]])\n",
    "\n",
    "autovalores, autovetores = al.eig(A)\n",
    "\n",
    "autovalores, autovetores"
   ]
  },
  {
   "cell_type": "code",
   "execution_count": null,
   "metadata": {},
   "outputs": [],
   "source": []
  }
 ]
}